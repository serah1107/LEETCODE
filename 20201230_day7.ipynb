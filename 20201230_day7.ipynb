{
 "cells": [
  {
   "cell_type": "code",
   "execution_count": 1,
   "metadata": {},
   "outputs": [],
   "source": [
    "s= 'abc'"
   ]
  },
  {
   "cell_type": "code",
   "execution_count": 2,
   "metadata": {},
   "outputs": [
    {
     "data": {
      "text/plain": [
       "'abc'"
      ]
     },
     "execution_count": 2,
     "metadata": {},
     "output_type": "execute_result"
    }
   ],
   "source": [
    "s[:3]"
   ]
  },
  {
   "cell_type": "code",
   "execution_count": null,
   "metadata": {},
   "outputs": [],
   "source": [
    "   \n",
    "class Solution(object):\n",
    "    \n",
    "   \n",
    "    def longestPalindrome(self, s):\n",
    "        \"\"\"\n",
    "        :type s: str\n",
    "        :rtype: str\n",
    "        \"\"\"\n",
    "        \n",
    "        def palindrome_test(left,right):        \n",
    "            while left >=0 and right<= len(s) and s[left] == s[right-1]:\n",
    "                left -= 1 \n",
    "                right += 1 \n",
    "\n",
    "            return s[left + 1:right - 1]\n",
    "    \n",
    "        if s[0] == s[len(s)-1]:\n",
    "            return s\n",
    "        \n",
    "        result = ''        \n",
    "        for i in range(0,len(s)-1):\n",
    "            result = max(result,palindrome_test(i,i+1),palindrome_test(i,i+2), key = len)\n",
    "            \n",
    "        return result\n",
    "        \n",
    "        \n",
    "        "
   ]
  }
 ],
 "metadata": {
  "kernelspec": {
   "display_name": "Python 3",
   "language": "python",
   "name": "python3"
  },
  "language_info": {
   "codemirror_mode": {
    "name": "ipython",
    "version": 3
   },
   "file_extension": ".py",
   "mimetype": "text/x-python",
   "name": "python",
   "nbconvert_exporter": "python",
   "pygments_lexer": "ipython3",
   "version": "3.6.5"
  }
 },
 "nbformat": 4,
 "nbformat_minor": 2
}
