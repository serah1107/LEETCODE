{
 "cells": [
  {
   "cell_type": "markdown",
   "metadata": {},
   "source": [
    "# leetcode -336. Palindrome Pairs"
   ]
  },
  {
   "cell_type": "code",
   "execution_count": null,
   "metadata": {},
   "outputs": [],
   "source": [
    "class Solution(object):\n",
    "    def palindromePairs(self, words):\n",
    "        \"\"\"\n",
    "        :type words: List[str]\n",
    "        :rtype: List[List[int]]\n",
    "        \"\"\"\n",
    "        def palindrome_check(word_str1, word_str2):\n",
    "            \n",
    "            d1 = deque(word_str1)\n",
    "            d2 = deque(word_str2)\n",
    "            \n",
    "            d1.extend(d2)\n",
    "            \n",
    "            for i in range(int(len(d1)/2)):\n",
    "                if d1.pop() != d1[i]:\n",
    "                    return False \n",
    "                \n",
    "            return True \n",
    "        \n",
    "        result = [] \n",
    "        \n",
    "        for i1 in range(0,len(words)) :\n",
    "            \n",
    "            result1 = []\n",
    "            \n",
    "            for i2 in range(0,len(words)) : \n",
    "                \n",
    "                if i1 != i2 and palindrome_check(words[i1],words[i2]):\n",
    "                    \n",
    "                    result1.append(i1)\n",
    "                    result1.append(i2)\n",
    "            \n",
    "            if  len(result1) > 0 :       \n",
    "                result.append(result1)\n",
    "\n",
    "            \n",
    "        return result"
   ]
  },
  {
   "cell_type": "code",
   "execution_count": null,
   "metadata": {},
   "outputs": [],
   "source": []
  }
 ],
 "metadata": {
  "kernelspec": {
   "display_name": "Python 3",
   "language": "python",
   "name": "python3"
  },
  "language_info": {
   "codemirror_mode": {
    "name": "ipython",
    "version": 3
   },
   "file_extension": ".py",
   "mimetype": "text/x-python",
   "name": "python",
   "nbconvert_exporter": "python",
   "pygments_lexer": "ipython3",
   "version": "3.6.5"
  }
 },
 "nbformat": 4,
 "nbformat_minor": 2
}
