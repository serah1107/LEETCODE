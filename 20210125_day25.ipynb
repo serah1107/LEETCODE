{
 "cells": [
  {
   "cell_type": "markdown",
   "metadata": {},
   "source": [
    "# leetcode - 207. Course Schedule"
   ]
  },
  {
   "cell_type": "code",
   "execution_count": null,
   "metadata": {},
   "outputs": [],
   "source": [
    "class Solution(object):\n",
    "    def canFinish(self, numCourses, prerequisites):\n",
    "        \"\"\"\n",
    "        :type numCourses: int\n",
    "        :type prerequisites: List[List[int]]\n",
    "        :rtype: bool\n",
    "        \"\"\"\n",
    "        pre_dict = {}\n",
    "        for val in prerequisites : \n",
    "            if val[1] in pre_dict:       \n",
    "                pre_dict[val[1]].append(val[0])\n",
    "            \n",
    "            \n",
    "            else: \n",
    "                pre_dict[val[1]]  = [val[0]]\n",
    "                \n",
    "        def dfs(key):\n",
    "            while key in pre_dict and pre_dict[key]:\n",
    "                dfs(pre_dict[key].pop(0))\n",
    "            course.append(key)\n",
    "            \n",
    "        course = []\n",
    "        dfs(prerequisites[0][1])\n",
    "        course = course[::-1]\n",
    "        \n",
    "        if course[0] == course[-1] : \n",
    "            return False \n",
    "        \n",
    "        elif len(course) == numCourses : \n",
    "            return True \n",
    "        "
   ]
  },
  {
   "cell_type": "code",
   "execution_count": null,
   "metadata": {},
   "outputs": [],
   "source": []
  },
  {
   "cell_type": "code",
   "execution_count": null,
   "metadata": {},
   "outputs": [],
   "source": []
  },
  {
   "cell_type": "code",
   "execution_count": null,
   "metadata": {},
   "outputs": [],
   "source": []
  },
  {
   "cell_type": "code",
   "execution_count": null,
   "metadata": {},
   "outputs": [],
   "source": [
    "2\n",
    "[[1,0]]\n",
    "2\n",
    "[[1,0],[0,1]]\n",
    "3\n",
    "[[1,0],[2,1]]\n",
    "3\n",
    "[[0,1],[1,2],[2,0]]\n",
    "4\n",
    "[[0,2],[2,1],[1,2],[2,0]]"
   ]
  },
  {
   "cell_type": "code",
   "execution_count": null,
   "metadata": {},
   "outputs": [],
   "source": []
  },
  {
   "cell_type": "code",
   "execution_count": null,
   "metadata": {},
   "outputs": [],
   "source": []
  },
  {
   "cell_type": "code",
   "execution_count": null,
   "metadata": {},
   "outputs": [],
   "source": []
  },
  {
   "cell_type": "code",
   "execution_count": null,
   "metadata": {},
   "outputs": [],
   "source": []
  },
  {
   "cell_type": "code",
   "execution_count": null,
   "metadata": {},
   "outputs": [],
   "source": []
  },
  {
   "cell_type": "code",
   "execution_count": null,
   "metadata": {},
   "outputs": [],
   "source": []
  }
 ],
 "metadata": {
  "kernelspec": {
   "display_name": "Python 3",
   "language": "python",
   "name": "python3"
  },
  "language_info": {
   "codemirror_mode": {
    "name": "ipython",
    "version": 3
   },
   "file_extension": ".py",
   "mimetype": "text/x-python",
   "name": "python",
   "nbconvert_exporter": "python",
   "pygments_lexer": "ipython3",
   "version": "3.6.5"
  }
 },
 "nbformat": 4,
 "nbformat_minor": 2
}
