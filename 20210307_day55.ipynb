{
 "cells": [
  {
   "cell_type": "markdown",
   "metadata": {},
   "source": [
    "# 프로그래머스 -K번째수\n"
   ]
  },
  {
   "cell_type": "code",
   "execution_count": 3,
   "metadata": {},
   "outputs": [],
   "source": [
    "def solution(array, commands):\n",
    "    answer = []\n",
    "    for val in commands : \n",
    "        i , j , k = val[0], val[1], val[2]\n",
    "        answer.append(sorted(array[i-1 : j])[k-1])    \n",
    "            \n",
    "    return answer"
   ]
  },
  {
   "cell_type": "markdown",
   "metadata": {},
   "source": [
    "# 프로그래머스 -가장 큰 수 \n"
   ]
  },
  {
   "cell_type": "code",
   "execution_count": 30,
   "metadata": {},
   "outputs": [],
   "source": [
    "def solution(numbers):\n",
    "    answer = ''\n",
    "    \n",
    "    def compare ( i, j):\n",
    "        return int (str(i) + str(j)) <= int(str(j) + str(i))\n",
    "\n",
    "    i = 1\n",
    "    \n",
    "    while i < len(numbers): \n",
    "        j = i \n",
    "        \n",
    "        while j > 0  and compare(numbers[j-1] , numbers[j]):\n",
    "            numbers[j-1] , numbers[j] = numbers[j] , numbers[j-1]\n",
    "            j -= 1\n",
    "        i += 1 \n",
    "    \n",
    "    return ''.join(map(str,numbers))\n",
    "\n",
    "#시간 초과 "
   ]
  },
  {
   "cell_type": "code",
   "execution_count": null,
   "metadata": {},
   "outputs": [],
   "source": [
    "def solution(numbers):\n",
    "    \n",
    "    numbers = sorted(numbers, key = lambda x: str(x)[0], reverse = True)\n",
    "    \n",
    "    def compare ( i, j):\n",
    "        return int (str(i) + str(j)) <= int(str(j) + str(i))\n",
    "\n",
    "    i = 1\n",
    "    \n",
    "    while i < len(numbers): \n",
    "        j = i \n",
    "        \n",
    "        while j > 0  and compare(numbers[j-1] , numbers[j]):\n",
    "            numbers[j-1] , numbers[j] = numbers[j] , numbers[j-1]\n",
    "            j -= 1\n",
    "        i += 1 \n",
    "    \n",
    "    return ''.join(map(str,numbers))\n",
    "# 시간 초과 "
   ]
  },
  {
   "cell_type": "code",
   "execution_count": 70,
   "metadata": {
    "scrolled": true
   },
   "outputs": [],
   "source": [
    "def solution(numbers):\n",
    "    \n",
    "  \n",
    "    new_numbers = list(map(str,numbers))\n",
    "    str_len = list(map(lambda x: len(x) , new_numbers))\n",
    "    max_len = max(str_len)  \n",
    "        \n",
    "    for i in range(len(numbers)) : \n",
    "        if str_len[i] < max_len :\n",
    "            new_numbers[i] += '0'* (max_len - str_len[i])\n",
    "        \n",
    "    new_numbers_2 = sorted(range(len(new_numbers)), key=lambda k: new_numbers[k], reverse = True)     \n",
    "    \n",
    "    answer = ''\n",
    "    for val in new_numbers_2 : \n",
    "        answer += str(numbers[val])\n",
    "    \n",
    "    return answer\n",
    "    \n",
    "   # 시간 초과  "
   ]
  },
  {
   "cell_type": "markdown",
   "metadata": {},
   "source": [
    "# 프로그래머스 - H-Index\n"
   ]
  },
  {
   "cell_type": "code",
   "execution_count": null,
   "metadata": {},
   "outputs": [],
   "source": [
    "def solution(citations):\n",
    "    answer = 0\n",
    "    citations = sorted(citations, reverse = True)\n",
    "    for i in range(len(citations)):\n",
    "        if i+1 > citations[i] : \n",
    "            return i\n",
    "        elif i+1 == citations[i]: \n",
    "            return i+1\n",
    "\n",
    "    return len(citations)\n",
    "#통과 "
   ]
  },
  {
   "cell_type": "markdown",
   "metadata": {},
   "source": [
    "# 프로그래머스 - 완주하지 못한 선수\n"
   ]
  },
  {
   "cell_type": "code",
   "execution_count": null,
   "metadata": {},
   "outputs": [],
   "source": [
    "import collections\n",
    "def solution(participant, completion):\n",
    "    \n",
    "    part_cnt = collections.Counter(participant)  \n",
    "    comp_cnt = collections.Counter(completion)\n",
    "    \n",
    "    for key, val in part_cnt.items():\n",
    "        if key not in comp_cnt or val != comp_cnt[key]:\n",
    "            return key            \n",
    "#통과   "
   ]
  },
  {
   "cell_type": "markdown",
   "metadata": {},
   "source": [
    "# 프로그래머스 -전화번호 목록\n"
   ]
  },
  {
   "cell_type": "code",
   "execution_count": null,
   "metadata": {},
   "outputs": [],
   "source": [
    "def solution(phone_book):\n",
    "    answer = True\n",
    "    \n",
    "    phone_book = sorted(phone_book, key = lambda x: len(x))\n",
    "    \n",
    "    for i in range(len(phone_book)-1):\n",
    "        for j in range(i+1, len(phone_book)):\n",
    "            if  phone_book[j].split(phone_book[i])[0] == \"\":\n",
    "                return False \n",
    "        \n",
    "    return True\n",
    "#효율성 - 테스트케이스 4 시간초과 "
   ]
  },
  {
   "cell_type": "code",
   "execution_count": null,
   "metadata": {},
   "outputs": [],
   "source": [
    "def solution(phone_book):\n",
    "    answer = True\n",
    "    \n",
    "    phone_book = sorted(phone_book, key = lambda x: len(x))\n",
    "    \n",
    "    for i in range(len(phone_book)-1):\n",
    "        for j in range(i+1, len(phone_book)):\n",
    "            if  phone_book[j][:len(phone_book[i])] == phone_book[i]:\n",
    "                return False \n",
    "        \n",
    "    return True\n",
    "#효율성 - 테스트케이스 4 시간초과 "
   ]
  },
  {
   "cell_type": "code",
   "execution_count": 10,
   "metadata": {},
   "outputs": [],
   "source": [
    "def solution(phone_book):\n",
    "    phone_book = sorted(phone_book)\n",
    "        \n",
    "    for i , j in zip(phone_book[:len(phone_book)-1], phone_book[1:]):\n",
    "       # print(i,j)\n",
    "        if j.startswith(i):\n",
    "            return False \n",
    "    return True\n",
    "#참고 "
   ]
  },
  {
   "cell_type": "markdown",
   "metadata": {},
   "source": [
    "# 프로그래머스 -위장\n"
   ]
  },
  {
   "cell_type": "code",
   "execution_count": 26,
   "metadata": {},
   "outputs": [],
   "source": [
    "import collections\n",
    "from collections import defaultdict\n",
    "\n",
    "def solution(clothes):\n",
    "    cnt = collections.defaultdict(int)\n",
    "    for val in clothes:\n",
    "        cnt[val[1]] += 1\n",
    "        \n",
    "    subset_cnt = 1    \n",
    "    for key, val in cnt.items():\n",
    "        subset_cnt *= val+1\n",
    "    \n",
    "    return  subset_cnt - 1"
   ]
  },
  {
   "cell_type": "code",
   "execution_count": null,
   "metadata": {},
   "outputs": [],
   "source": []
  },
  {
   "cell_type": "code",
   "execution_count": null,
   "metadata": {},
   "outputs": [],
   "source": []
  }
 ],
 "metadata": {
  "kernelspec": {
   "display_name": "Python 3",
   "language": "python",
   "name": "python3"
  },
  "language_info": {
   "codemirror_mode": {
    "name": "ipython",
    "version": 3
   },
   "file_extension": ".py",
   "mimetype": "text/x-python",
   "name": "python",
   "nbconvert_exporter": "python",
   "pygments_lexer": "ipython3",
   "version": "3.6.5"
  }
 },
 "nbformat": 4,
 "nbformat_minor": 2
}
