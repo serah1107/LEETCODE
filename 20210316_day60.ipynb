{
 "cells": [
  {
   "cell_type": "markdown",
   "metadata": {},
   "source": [
    "# 프로그래머스 - 다리를 지나는 트럭"
   ]
  },
  {
   "cell_type": "code",
   "execution_count": 1,
   "metadata": {},
   "outputs": [],
   "source": [
    "from collections import deque\n",
    "def solution(bridge_length, weight, truck_weights):\n",
    "    answer = 0 \n",
    "    temp = deque([0]) * bridge_length\n",
    "    \n",
    "    while temp :\n",
    "        answer += 1\n",
    "        temp.popleft()\n",
    "        \n",
    "        if truck_weights : \n",
    "            if sum(temp) + truck_weights[0] <= weight :\n",
    "                temp.append(truck_weights.pop(0))\n",
    "            else : \n",
    "                temp.append(0)\n",
    "                \n",
    "    return answer"
   ]
  }
 ],
 "metadata": {
  "kernelspec": {
   "display_name": "Python 3",
   "language": "python",
   "name": "python3"
  },
  "language_info": {
   "codemirror_mode": {
    "name": "ipython",
    "version": 3
   },
   "file_extension": ".py",
   "mimetype": "text/x-python",
   "name": "python",
   "nbconvert_exporter": "python",
   "pygments_lexer": "ipython3",
   "version": "3.6.5"
  }
 },
 "nbformat": 4,
 "nbformat_minor": 2
}
