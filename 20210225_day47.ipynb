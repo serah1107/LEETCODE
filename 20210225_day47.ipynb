{
 "cells": [
  {
   "cell_type": "markdown",
   "metadata": {},
   "source": [
    "# leetcode - 704. Binary Search"
   ]
  },
  {
   "cell_type": "code",
   "execution_count": null,
   "metadata": {},
   "outputs": [],
   "source": [
    "class Solution(object):\n",
    "    def search(self, nums, target):\n",
    "        \"\"\"\n",
    "        :type nums: List[int]\n",
    "        :type target: int\n",
    "        :rtype: int\n",
    "        \"\"\"\n",
    "        def binary (left, right) : \n",
    "            if left <= right : \n",
    "                mid = int((left + right)/2)\n",
    "                \n",
    "                if nums[mid] < target : \n",
    "                    return binary(mid + 1, right)\n",
    "                \n",
    "                elif nums[mid] > target :\n",
    "                    return binary(left, mid - 1)\n",
    "                \n",
    "                else : \n",
    "                    return mid \n",
    "         \n",
    "                \n",
    "        return binary(0, len(nums)-1)\n",
    "                    "
   ]
  },
  {
   "cell_type": "markdown",
   "metadata": {},
   "source": [
    "# leetcode - 33. Search in Rotated Sorted Array"
   ]
  },
  {
   "cell_type": "code",
   "execution_count": null,
   "metadata": {},
   "outputs": [],
   "source": [
    "class Solution(object):\n",
    "    def search(self, nums, target):\n",
    "        \"\"\"\n",
    "        :type nums: List[int]\n",
    "        :type target: int\n",
    "        :rtype: int\n",
    "        \"\"\"\n",
    "        sort_nums = sorted(nums)\n",
    "        print(sort_nums)\n",
    "        left , right = 0, len(sort_nums) - 1\n",
    "        \n",
    "        while left <= right : \n",
    "            mid = int((left + right)/2)\n",
    "            \n",
    "            if sort_nums[mid] < target : \n",
    "                left = mid + 1 \n",
    "                \n",
    "            elif sort_nums[mid] > target: \n",
    "                right = mid - 1\n",
    "                \n",
    "            else : \n",
    "                break\n",
    "        \n",
    "        rot = len(nums) - 1\n",
    "        while rot > 0 : \n",
    "            if nums[rot + mid] == target : \n",
    "                return rot + mid                 \n",
    "            rot -= 1 \n",
    "            \n",
    "        "
   ]
  },
  {
   "cell_type": "code",
   "execution_count": null,
   "metadata": {},
   "outputs": [],
   "source": []
  }
 ],
 "metadata": {
  "kernelspec": {
   "display_name": "Python 3",
   "language": "python",
   "name": "python3"
  },
  "language_info": {
   "codemirror_mode": {
    "name": "ipython",
    "version": 3
   },
   "file_extension": ".py",
   "mimetype": "text/x-python",
   "name": "python",
   "nbconvert_exporter": "python",
   "pygments_lexer": "ipython3",
   "version": "3.6.5"
  }
 },
 "nbformat": 4,
 "nbformat_minor": 2
}
