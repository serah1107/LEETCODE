{
 "cells": [
  {
   "cell_type": "markdown",
   "metadata": {},
   "source": [
    "# leetcode - 207. Course Schedule"
   ]
  },
  {
   "cell_type": "code",
   "execution_count": null,
   "metadata": {},
   "outputs": [],
   "source": [
    "class Solution(object):\n",
    "    def networkDelayTime(self, times, n, k):\n",
    "        \"\"\"\n",
    "        :type times: List[List[int]]\n",
    "        :type n: int\n",
    "        :type k: int\n",
    "        :rtype: int\n",
    "        \"\"\"\n",
    "        route_dict = {}\n",
    "        \n",
    "        for val in times :\n",
    "            if val[0] in route_dict : \n",
    "                route_dict[val[0]].append(val[1])\n",
    "            \n",
    "            else : \n",
    "                route_dict[val[0]] = [val[1]]\n",
    "                \n",
    "        def dfs(key):\n",
    "             while key in route_dict and route_dict[key]:\n",
    "                dfs(route_dict[key].pop(0))\n",
    "             course.append(key)\n",
    "            \n",
    "            \n",
    "        course = []\n",
    "        dfs(k)\n",
    "        course = course[::-1]\n",
    "        sum_route = 0 \n",
    "        #print(course)\n",
    "        for a in range(1,len(course)):\n",
    "            for val in times : \n",
    "                if val[1] == course[a] and val[0] == course[a-1] :\n",
    "                    sum_route += val[2]\n",
    "                    \n",
    "                    \n",
    "        if len(course) == 1 and sum_route == 0: \n",
    "            return -1 \n",
    "        \n",
    "        return sum_route\n",
    "        \n",
    "        "
   ]
  },
  {
   "cell_type": "code",
   "execution_count": null,
   "metadata": {},
   "outputs": [],
   "source": []
  },
  {
   "cell_type": "code",
   "execution_count": null,
   "metadata": {},
   "outputs": [],
   "source": []
  },
  {
   "cell_type": "code",
   "execution_count": null,
   "metadata": {},
   "outputs": [],
   "source": []
  },
  {
   "cell_type": "code",
   "execution_count": null,
   "metadata": {},
   "outputs": [],
   "source": [
    "2\n",
    "[[1,0]]\n",
    "2\n",
    "[[1,0],[0,1]]\n",
    "3\n",
    "[[1,0],[2,1]]\n",
    "3\n",
    "[[0,1],[1,2],[2,0]]\n",
    "4\n",
    "[[0,2],[2,1],[1,2],[2,0]]"
   ]
  },
  {
   "cell_type": "code",
   "execution_count": null,
   "metadata": {},
   "outputs": [],
   "source": []
  },
  {
   "cell_type": "code",
   "execution_count": null,
   "metadata": {},
   "outputs": [],
   "source": []
  },
  {
   "cell_type": "code",
   "execution_count": null,
   "metadata": {},
   "outputs": [],
   "source": []
  },
  {
   "cell_type": "code",
   "execution_count": null,
   "metadata": {},
   "outputs": [],
   "source": []
  },
  {
   "cell_type": "code",
   "execution_count": null,
   "metadata": {},
   "outputs": [],
   "source": []
  },
  {
   "cell_type": "code",
   "execution_count": null,
   "metadata": {},
   "outputs": [],
   "source": []
  }
 ],
 "metadata": {
  "kernelspec": {
   "display_name": "Python 3",
   "language": "python",
   "name": "python3"
  },
  "language_info": {
   "codemirror_mode": {
    "name": "ipython",
    "version": 3
   },
   "file_extension": ".py",
   "mimetype": "text/x-python",
   "name": "python",
   "nbconvert_exporter": "python",
   "pygments_lexer": "ipython3",
   "version": "3.6.5"
  }
 },
 "nbformat": 4,
 "nbformat_minor": 2
}
