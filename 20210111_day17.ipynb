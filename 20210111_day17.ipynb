{
 "cells": [
  {
   "cell_type": "markdown",
   "metadata": {},
   "source": [
    "# leetcode - 347. Top K Frequent Elements\n"
   ]
  },
  {
   "cell_type": "code",
   "execution_count": null,
   "metadata": {},
   "outputs": [],
   "source": [
    "class Solution(object):\n",
    "    def topKFrequent(self, nums, k):\n",
    "        \"\"\"\n",
    "        :type nums: List[int]\n",
    "        :type k: int\n",
    "        :rtype: List[int]\n",
    "        \"\"\"\n",
    "        num_cnt = collections.Counter(nums)\n",
    "        new_num_cnt = {}\n",
    "        cnt_new = []\n",
    "        \n",
    "        for key, cnt in num_cnt.items() : # 카운트 저장 및 key 바꾸기 \n",
    "            cnt_new.append(cnt)\n",
    "            new_num_cnt[cnt] = key\n",
    "            \n",
    "        cnt_new.sort()\n",
    "        cnt_new.reverse() #내림차순 정렬 \n",
    "        \n",
    "        result = []\n",
    "        for i in range(k) :  # 카운트대로 해당 숫자 가져오기 \n",
    "            result.append(new_num_cnt[cnt_new[i]])                \n",
    "            \n",
    "        return result   \n",
    "            \n",
    "#한줄 처리가 가능하다니...ㅎ"
   ]
  },
  {
   "cell_type": "code",
   "execution_count": null,
   "metadata": {},
   "outputs": [],
   "source": []
  },
  {
   "cell_type": "code",
   "execution_count": null,
   "metadata": {},
   "outputs": [],
   "source": []
  },
  {
   "cell_type": "code",
   "execution_count": null,
   "metadata": {},
   "outputs": [],
   "source": []
  }
 ],
 "metadata": {
  "kernelspec": {
   "display_name": "Python 3",
   "language": "python",
   "name": "python3"
  },
  "language_info": {
   "codemirror_mode": {
    "name": "ipython",
    "version": 3
   },
   "file_extension": ".py",
   "mimetype": "text/x-python",
   "name": "python",
   "nbconvert_exporter": "python",
   "pygments_lexer": "ipython3",
   "version": "3.6.5"
  }
 },
 "nbformat": 4,
 "nbformat_minor": 2
}
