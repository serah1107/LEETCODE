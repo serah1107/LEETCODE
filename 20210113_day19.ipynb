{
 "cells": [
  {
   "cell_type": "markdown",
   "metadata": {},
   "source": [
    "# leetcode - 17. Letter Combinations of a Phone Number"
   ]
  },
  {
   "cell_type": "code",
   "execution_count": null,
   "metadata": {},
   "outputs": [],
   "source": [
    "class Solution(object):\n",
    "    def letterCombinations(self, digits):\n",
    "        \"\"\"\n",
    "        :type digits: str\n",
    "        :rtype: List[str]\n",
    "        \"\"\"\n",
    "        alphabet = 'abcdefghijklmnopqrstuvwxyz'\n",
    "        \n",
    "        digit = {}\n",
    "        \n",
    "        for i in range(0,len(alphabet)-2,3):\n",
    "            \n",
    "            digit [str(int(i/3+2))] = [alphabet[i],alphabet[i+1],alphabet[i+2]]\n",
    "            \n",
    "            \n",
    "        if len(digits) == 0 : \n",
    "        \n",
    "            return []\n",
    "        \n",
    "        elif len(digits) == 1 : \n",
    "            \n",
    "            return digit[digits]\n",
    "        \n",
    "        elif len(digits) == 2 : \n",
    "            \n",
    "            print(digit[digits[0]])\n",
    "            \n",
    "            result = list(product(digit[digits[0]], digit[digits[1]]))\n",
    "            \n",
    "            return [''.join(val) for val in result]\n",
    "        \n",
    "        elif len(digits) == 3 : \n",
    "            \n",
    "            result = list(product(digit[digits[0]], digit[digits[1]], digit[digits[2]]))\n",
    "            \n",
    "            return [''.join(val) for val in result]\n",
    "        \n",
    "        elif len(digits) == 4 : \n",
    "            \n",
    "            result = list(product(digit[digits[0]], digit[digits[1]], digit[digits[2]],digit[digits[3]]))\n",
    "            \n",
    "            return [''.join(val) for val in result]\n",
    "        \n",
    "            \n",
    "            \n",
    "            "
   ]
  }
 ],
 "metadata": {
  "kernelspec": {
   "display_name": "Python 3",
   "language": "python",
   "name": "python3"
  },
  "language_info": {
   "codemirror_mode": {
    "name": "ipython",
    "version": 3
   },
   "file_extension": ".py",
   "mimetype": "text/x-python",
   "name": "python",
   "nbconvert_exporter": "python",
   "pygments_lexer": "ipython3",
   "version": "3.6.5"
  }
 },
 "nbformat": 4,
 "nbformat_minor": 2
}
