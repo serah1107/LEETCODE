{
 "cells": [
  {
   "cell_type": "code",
   "execution_count": 3,
   "metadata": {
    "collapsed": true
   },
   "outputs": [
    {
     "ename": "NameError",
     "evalue": "name 'original' is not defined",
     "output_type": "error",
     "traceback": [
      "\u001b[1;31m---------------------------------------------------------------------------\u001b[0m",
      "\u001b[1;31mNameError\u001b[0m                                 Traceback (most recent call last)",
      "\u001b[1;32m<ipython-input-3-533a3d456fc3>\u001b[0m in \u001b[0;36m<module>\u001b[1;34m()\u001b[0m\n\u001b[1;32m----> 1\u001b[1;33m \u001b[0ma\u001b[0m \u001b[1;33m=\u001b[0m \u001b[1;33m{\u001b[0m\u001b[0mkey\u001b[0m \u001b[1;33m:\u001b[0m \u001b[0mvalue\u001b[0m \u001b[1;32mfor\u001b[0m \u001b[0mkey\u001b[0m\u001b[1;33m,\u001b[0m \u001b[0mvalue\u001b[0m \u001b[1;32min\u001b[0m \u001b[0moriginal\u001b[0m\u001b[1;33m.\u001b[0m\u001b[0mitems\u001b[0m\u001b[1;33m(\u001b[0m\u001b[1;33m)\u001b[0m\u001b[1;33m}\u001b[0m\u001b[1;33m\u001b[0m\u001b[0m\n\u001b[0m",
      "\u001b[1;31mNameError\u001b[0m: name 'original' is not defined"
     ]
    }
   ],
   "source": [
    "a = {key : value for key, value in original.items()}"
   ]
  },
  {
   "cell_type": "code",
   "execution_count": 4,
   "metadata": {
    "scrolled": true
   },
   "outputs": [
    {
     "name": "stdout",
     "output_type": "stream",
     "text": [
      "a,b\n"
     ]
    }
   ],
   "source": [
    "print(\"a\",\"b\",sep = \",\")"
   ]
  },
  {
   "cell_type": "code",
   "execution_count": 5,
   "metadata": {},
   "outputs": [],
   "source": [
    "idx = 1\n",
    "fruit = \"Apple\""
   ]
  },
  {
   "cell_type": "code",
   "execution_count": 7,
   "metadata": {
    "scrolled": false
   },
   "outputs": [
    {
     "name": "stdout",
     "output_type": "stream",
     "text": [
      "2 : Apple\n",
      "2 : Apple\n"
     ]
    }
   ],
   "source": [
    "print(f\"{idx+1} : {fruit}\")\n",
    "print(\"{} : {}\".format(idx+1, fruit))"
   ]
  },
  {
   "cell_type": "markdown",
   "metadata": {},
   "source": [
    "## leetcode 1 - Twosum"
   ]
  },
  {
   "cell_type": "code",
   "execution_count": 10,
   "metadata": {},
   "outputs": [],
   "source": [
    "class Solution(object):\n",
    "    def twoSum(self, nums, target):\n",
    "        \"\"\"\n",
    "        :type nums: List[int]\n",
    "        :type target: int\n",
    "        :rtype: List[int]\n",
    "        \"\"\"\n",
    "        for idx, val in enumerate(nums):\n",
    "            result = []\n",
    "            res = target - val \n",
    "            \n",
    "            if res in nums: \n",
    "                result.append(idx)\n",
    "                result.append(nums.index(res))\n",
    "                nums.pop()\n",
    "                \n",
    "        return(result)"
   ]
  },
  {
   "cell_type": "code",
   "execution_count": 43,
   "metadata": {},
   "outputs": [],
   "source": [
    "def twoSum(nums, target):\n",
    "        \"\"\"\n",
    "        :type nums: List[int]\n",
    "        :type target: int\n",
    "        :rtype: List[int]\n",
    "        \"\"\"\n",
    "        result = []\n",
    "        idx = len(nums) # 끝에서부터 시작 \n",
    "        \n",
    "        while len(nums)>1:\n",
    "                     \n",
    "            idx = idx - 1   # pop 하면 -1 \n",
    "            first = nums.pop()  \n",
    "            res = target - first\n",
    "            \n",
    "            if res in nums: # 나머지 값이 리스트에 있으면 \n",
    "                result.append(idx)\n",
    "                result.append(nums.index(res))\n",
    "                print(result)\n",
    "            \n",
    "            result.sort()\n",
    "            \n",
    " \n",
    "        return(result)"
   ]
  },
  {
   "cell_type": "code",
   "execution_count": 44,
   "metadata": {
    "scrolled": true
   },
   "outputs": [
    {
     "name": "stdout",
     "output_type": "stream",
     "text": [
      "[2, 1]\n"
     ]
    },
    {
     "data": {
      "text/plain": [
       "[1, 2]"
      ]
     },
     "execution_count": 44,
     "metadata": {},
     "output_type": "execute_result"
    }
   ],
   "source": [
    "twoSum([3,2,4],6)"
   ]
  },
  {
   "cell_type": "markdown",
   "metadata": {},
   "source": [
    "# leetcode 2 - Add Two Numbers"
   ]
  },
  {
   "cell_type": "code",
   "execution_count": 45,
   "metadata": {},
   "outputs": [
    {
     "data": {
      "text/plain": [
       "134"
      ]
     },
     "execution_count": 45,
     "metadata": {},
     "output_type": "execute_result"
    }
   ],
   "source": [
    "# Definition for singly-linked list.\n",
    "class Solution(object):\n",
    "    def list_val(self,l): # 값 있으면 리턴 아니면 0 \n",
    "          \n",
    "        if l : \n",
    "            return l.val\n",
    "            \n",
    "        return 0 \n",
    "        \n",
    "    def addTwoNumbers(self, l1, l2):\n",
    "        \"\"\"\n",
    "        :type l1: ListNode\n",
    "        :type l2: ListNode\n",
    "        :rtype: ListNode\n",
    "        \"\"\"\n",
    "        \n",
    "        final_list =[]\n",
    "        carry = 0 \n",
    "        \n",
    "\n",
    "        while l1 or l2:\n",
    "                              \n",
    "                \n",
    "            num = self.list_val(l1) + self.list_val(l2) + carry \n",
    "            final_list.append(num%10)#나머지 \n",
    "                \n",
    "                \n",
    "            if num >= 10 :                     \n",
    "                carry = 1\n",
    "                    \n",
    "            else : \n",
    "                carry = 0 \n",
    "                \n",
    "            if l1: \n",
    "                l1 = l1.next  \n",
    "                \n",
    "            if l2: \n",
    "                l2 = l2.next  \n",
    "                \n",
    "        if final_list[len(final_list)-1] == 0 and len(final_list) > 1 : \n",
    "            final_list.append(1)\n",
    "            \n",
    "        final_list.reverse()\n",
    "            \n",
    "        final_link = None \n",
    "            \n",
    "        for val in final_list:\n",
    "            new_link = ListNode(val)\n",
    "            \n",
    "            if not final_link : \n",
    "                final_link = new_link\n",
    "                    \n",
    "            else: \n",
    "                new_link.next = final_link \n",
    "                final_link = new_link \n",
    "        \n",
    "        return final_link"
   ]
  },
  {
   "cell_type": "code",
   "execution_count": null,
   "metadata": {},
   "outputs": [],
   "source": []
  },
  {
   "cell_type": "code",
   "execution_count": null,
   "metadata": {},
   "outputs": [],
   "source": []
  },
  {
   "cell_type": "code",
   "execution_count": null,
   "metadata": {},
   "outputs": [],
   "source": []
  },
  {
   "cell_type": "code",
   "execution_count": null,
   "metadata": {},
   "outputs": [],
   "source": []
  }
 ],
 "metadata": {
  "kernelspec": {
   "display_name": "Python 3",
   "language": "python",
   "name": "python3"
  },
  "language_info": {
   "codemirror_mode": {
    "name": "ipython",
    "version": 3
   },
   "file_extension": ".py",
   "mimetype": "text/x-python",
   "name": "python",
   "nbconvert_exporter": "python",
   "pygments_lexer": "ipython3",
   "version": "3.6.5"
  }
 },
 "nbformat": 4,
 "nbformat_minor": 2
}
