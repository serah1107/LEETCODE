{
 "cells": [
  {
   "cell_type": "markdown",
   "metadata": {},
   "source": [
    "# leetcode - 332. Reconstruct Itinerary"
   ]
  },
  {
   "cell_type": "code",
   "execution_count": null,
   "metadata": {},
   "outputs": [],
   "source": [
    "class Solution(object):\n",
    "    def findItinerary(self, tickets):\n",
    "        \"\"\"\n",
    "        :type tickets: List[List[str]]\n",
    "        :rtype: List[str]\n",
    "        \"\"\"\n",
    "        ticket_dict = {}\n",
    "        for val in tickets : \n",
    "            if val[0] in ticket_dict : \n",
    "                ticket_dict[val[0]].append(val[1])\n",
    "                \n",
    "            else : \n",
    "                ticket_dict[val[0]] = [val[1]]\n",
    "         \n",
    "        for key in ticket_dict : \n",
    "            ticket_dict[key].sort()\n",
    "            \n",
    "        print(ticket_dict)   \n",
    "        def dfs(key):\n",
    "            while key in ticket_dict and ticket_dict[key]:\n",
    "                dfs(ticket_dict[key].pop(0))\n",
    "            route.append(key)\n",
    "            \n",
    "            \n",
    "        route = []\n",
    "        dfs('JFK')\n",
    "        print(route)\n",
    "   \n",
    "        return route[::-1]"
   ]
  },
  {
   "cell_type": "code",
   "execution_count": null,
   "metadata": {},
   "outputs": [],
   "source": []
  },
  {
   "cell_type": "code",
   "execution_count": null,
   "metadata": {},
   "outputs": [],
   "source": []
  },
  {
   "cell_type": "code",
   "execution_count": null,
   "metadata": {},
   "outputs": [],
   "source": []
  },
  {
   "cell_type": "code",
   "execution_count": null,
   "metadata": {},
   "outputs": [],
   "source": []
  },
  {
   "cell_type": "code",
   "execution_count": null,
   "metadata": {},
   "outputs": [],
   "source": []
  },
  {
   "cell_type": "code",
   "execution_count": null,
   "metadata": {},
   "outputs": [],
   "source": []
  },
  {
   "cell_type": "code",
   "execution_count": null,
   "metadata": {},
   "outputs": [],
   "source": []
  },
  {
   "cell_type": "code",
   "execution_count": null,
   "metadata": {},
   "outputs": [],
   "source": []
  },
  {
   "cell_type": "code",
   "execution_count": null,
   "metadata": {},
   "outputs": [],
   "source": []
  },
  {
   "cell_type": "code",
   "execution_count": null,
   "metadata": {},
   "outputs": [],
   "source": []
  }
 ],
 "metadata": {
  "kernelspec": {
   "display_name": "Python 3",
   "language": "python",
   "name": "python3"
  },
  "language_info": {
   "codemirror_mode": {
    "name": "ipython",
    "version": 3
   },
   "file_extension": ".py",
   "mimetype": "text/x-python",
   "name": "python",
   "nbconvert_exporter": "python",
   "pygments_lexer": "ipython3",
   "version": "3.6.5"
  }
 },
 "nbformat": 4,
 "nbformat_minor": 2
}
