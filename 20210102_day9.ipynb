{
 "cells": [
  {
   "cell_type": "markdown",
   "metadata": {},
   "source": [
    "# leetcode - 92. Reverse Linked List II"
   ]
  },
  {
   "cell_type": "code",
   "execution_count": 1,
   "metadata": {},
   "outputs": [
    {
     "name": "stdout",
     "output_type": "stream",
     "text": [
      "0\n"
     ]
    }
   ],
   "source": [
    "for i in range(1):\n",
    "    print(i)"
   ]
  },
  {
   "cell_type": "code",
   "execution_count": null,
   "metadata": {},
   "outputs": [],
   "source": [
    "# Definition for singly-linked list.\n",
    "# class ListNode(object):\n",
    "#     def __init__(self, val=0, next=None):\n",
    "#         self.val = val\n",
    "#         self.next = next\n",
    "class Solution(object):\n",
    "    def reverseBetween(self, head, m, n):\n",
    "        \"\"\"\n",
    "        :type head: ListNode\n",
    "        :type m: int\n",
    "        :type n: int\n",
    "        :rtype: ListNode\n",
    "        \"\"\"\n",
    "        \n",
    "        if m == n:\n",
    "            return head\n",
    "\n",
    "        tmpnode = ListNode(0)\n",
    "        tmpnode.next = head\n",
    "        start = tmpnode\n",
    "\n",
    "        for i in range(m - 1): # 첫번째부터 m까지 이동 \n",
    "            start = start.next\n",
    "    \n",
    "        \n",
    "        reverse = None\n",
    "        cur = start.next\n",
    "        \n",
    "        for i in range(n - m + 1):\n",
    "            next = cur.next\n",
    "            cur.next = reverse\n",
    "            reverse = cur\n",
    "            cur = next\n",
    "\n",
    "        start.next.next = cur\n",
    "        start.next = reverse\n",
    "\n",
    "        return tmpnode.next"
   ]
  },
  {
   "cell_type": "code",
   "execution_count": null,
   "metadata": {},
   "outputs": [],
   "source": []
  },
  {
   "cell_type": "code",
   "execution_count": null,
   "metadata": {},
   "outputs": [],
   "source": []
  }
 ],
 "metadata": {
  "kernelspec": {
   "display_name": "Python 3",
   "language": "python",
   "name": "python3"
  },
  "language_info": {
   "codemirror_mode": {
    "name": "ipython",
    "version": 3
   },
   "file_extension": ".py",
   "mimetype": "text/x-python",
   "name": "python",
   "nbconvert_exporter": "python",
   "pygments_lexer": "ipython3",
   "version": "3.6.5"
  }
 },
 "nbformat": 4,
 "nbformat_minor": 2
}
