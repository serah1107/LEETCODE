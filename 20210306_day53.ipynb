{
 "cells": [
  {
   "cell_type": "markdown",
   "metadata": {},
   "source": [
    "# leetcode - 76. Minimum Window Substring"
   ]
  },
  {
   "cell_type": "code",
   "execution_count": null,
   "metadata": {},
   "outputs": [],
   "source": [
    "class Solution(object):\n",
    "    def minWindow(self, s, t):\n",
    "        \"\"\"\n",
    "        :type s: str\n",
    "        :type t: str\n",
    "        :rtype: str\n",
    "        \"\"\"\n",
    "        for k in range(1,len(s)):\n",
    "            for i in range(0,len(s)- k + 1):\n",
    "                if set(t) - set(s[i: i+k]) == set() :                   \n",
    "                    return s[i:i+k]\n",
    "                \n",
    "#추가 풀이는 내일.."
   ]
  },
  {
   "cell_type": "code",
   "execution_count": null,
   "metadata": {},
   "outputs": [],
   "source": [
    "#추가 풀이\n",
    "class Solution(object):\n",
    "    def minWindow(self, s, t):\n",
    "        \"\"\"\n",
    "        :type s: str\n",
    "        :type t: str\n",
    "        :rtype: str\n",
    "        \"\"\"\n",
    "        def contains(substr_list, t_list): \n",
    "            for t_elmnt in t_list : \n",
    "                if t_elmnt in substr_list : \n",
    "                    substr_list.remove(t_elmnt)\n",
    "                else: \n",
    "                    return False \n",
    "            return True \n",
    "        \n",
    "        if not s or not t: \n",
    "            return ''  #없으면 empty string \n",
    "        \n",
    "        for size in range(len(t), len(s) + 1):\n",
    "            for left in range(len(s) - size + 1):\n",
    "                s_substr   = s[left : left + size] #window_size + left \n",
    "                \n",
    "                if contains(list(s_substr), list(t)): \n",
    "                    return s_substr\n",
    "                \n",
    "        return ''\n",
    "        \n"
   ]
  },
  {
   "cell_type": "markdown",
   "metadata": {},
   "source": [
    "# leetcode - 76. Minimum Window Substring"
   ]
  },
  {
   "cell_type": "code",
   "execution_count": null,
   "metadata": {},
   "outputs": [],
   "source": [
    "class Solution(object):\n",
    "    def characterReplacement(self, s, k):\n",
    "        \"\"\"\n",
    "        :type s: str\n",
    "        :type k: int\n",
    "        :rtype: int\n",
    "        \"\"\"\n",
    "        count_s  = collections.Counter() \n",
    "        \n",
    "        max_s  = res_s = 0 \n",
    "        \n",
    "        for i in range(len(s)): \n",
    "            count_s[s[i]] += 1 #캐릭터마다 count \n",
    "            max_s  = max(max_s , count_s[s[i]])\n",
    "            \n",
    "            if res_s - max_s < k : \n",
    "                res_s += 1 \n",
    "                \n",
    "            else: #k개 채워졌을 때 \n",
    "                count_s[s[i - res_s]] -= 1\n",
    "        return res_s"
   ]
  }
 ],
 "metadata": {
  "kernelspec": {
   "display_name": "Python 3",
   "language": "python",
   "name": "python3"
  },
  "language_info": {
   "codemirror_mode": {
    "name": "ipython",
    "version": 3
   },
   "file_extension": ".py",
   "mimetype": "text/x-python",
   "name": "python",
   "nbconvert_exporter": "python",
   "pygments_lexer": "ipython3",
   "version": "3.6.5"
  }
 },
 "nbformat": 4,
 "nbformat_minor": 2
}
