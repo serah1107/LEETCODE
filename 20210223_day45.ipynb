{
 "cells": [
  {
   "cell_type": "markdown",
   "metadata": {},
   "source": [
    "# leetcode - 179. Largest Number"
   ]
  },
  {
   "cell_type": "code",
   "execution_count": 3,
   "metadata": {},
   "outputs": [],
   "source": [
    "a =''"
   ]
  },
  {
   "cell_type": "code",
   "execution_count": 5,
   "metadata": {},
   "outputs": [
    {
     "name": "stdout",
     "output_type": "stream",
     "text": [
      "dfdf\n"
     ]
    }
   ],
   "source": [
    "if a :\n",
    "    print(\"df\")\n",
    "else: \n",
    "    print(\"dfdf\")"
   ]
  },
  {
   "cell_type": "code",
   "execution_count": 14,
   "metadata": {},
   "outputs": [
    {
     "name": "stdout",
     "output_type": "stream",
     "text": [
      "[9, 5, 3, 30, 34]\n"
     ]
    }
   ],
   "source": [
    "nums = [3,30,34,5,9]\n",
    "print(sorted(nums, key = lambda x : -int(str(x)[0]))) #int 역순으로 "
   ]
  },
  {
   "cell_type": "code",
   "execution_count": null,
   "metadata": {},
   "outputs": [],
   "source": [
    "class Solution(object):\n",
    "    \n",
    "    @staticmethod #이거 있어야 실행됨\n",
    "    def compare(s1, s2):\n",
    "        return int(str(s1) + str(s2)) <= int(str(s2) + str(s1)) \n",
    "            \n",
    "    \n",
    "    def largestNumber(self, nums):\n",
    "        \"\"\"\n",
    "        :type nums: List[int]\n",
    "        :rtype: str\n",
    "        \"\"\"\n",
    "        \n",
    "        nums = sorted(nums, key  = lambda x : -int(str(x)[0]))         \n",
    "        result = []\n",
    "        i = 1\n",
    "        \n",
    "        while i < len(nums):\n",
    "            \n",
    "            j = i     \n",
    "            \n",
    "            while j > 0 and self.compare(nums[j-1], nums[j]) : \n",
    "                nums[j-1] , nums[j] = nums[j], nums[j-1]\n",
    "                j -= 1\n",
    "            \n",
    "            i += 1\n",
    "            \n",
    "        return ''.join(map(str,nums))"
   ]
  }
 ],
 "metadata": {
  "kernelspec": {
   "display_name": "Python 3",
   "language": "python",
   "name": "python3"
  },
  "language_info": {
   "codemirror_mode": {
    "name": "ipython",
    "version": 3
   },
   "file_extension": ".py",
   "mimetype": "text/x-python",
   "name": "python",
   "nbconvert_exporter": "python",
   "pygments_lexer": "ipython3",
   "version": "3.6.5"
  }
 },
 "nbformat": 4,
 "nbformat_minor": 2
}
