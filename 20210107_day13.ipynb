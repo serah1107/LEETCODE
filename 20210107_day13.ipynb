{
 "cells": [
  {
   "cell_type": "markdown",
   "metadata": {},
   "source": [
    "# leetcode - 56. Merge Intervals"
   ]
  },
  {
   "cell_type": "code",
   "execution_count": 4,
   "metadata": {},
   "outputs": [],
   "source": [
    "class Solution(object):\n",
    "    def merge(self, intervals):\n",
    "        \"\"\"\n",
    "        :type intervals: List[List[int]]\n",
    "        :rtype: List[List[int]]\n",
    "        \"\"\"\n",
    "        \n",
    "        intervals.sort()\n",
    "        \n",
    "        start = []\n",
    "        end = []\n",
    "        \n",
    "        for l in intervals : \n",
    "            start.append(l[0])\n",
    "            \n",
    "            if len(end) >= 1 :\n",
    "                temp = end[len(end)-1]\n",
    "                \n",
    "                #print(end)\n",
    "                if end.pop() < start.pop():\n",
    "                    #print(end)\n",
    "                    start.append(l[0])\n",
    "                    end.append(temp)\n",
    "                    \n",
    "            \n",
    "            end.append(l[1])\n",
    "\n",
    "            \n",
    "        final = []\n",
    "        \n",
    "        for i in range(len(start)):\n",
    "            final.append([start[i],end[i]])\n",
    "            \n",
    "        return final\n",
    "            "
   ]
  },
  {
   "cell_type": "code",
   "execution_count": null,
   "metadata": {},
   "outputs": [],
   "source": []
  }
 ],
 "metadata": {
  "kernelspec": {
   "display_name": "Python 3",
   "language": "python",
   "name": "python3"
  },
  "language_info": {
   "codemirror_mode": {
    "name": "ipython",
    "version": 3
   },
   "file_extension": ".py",
   "mimetype": "text/x-python",
   "name": "python",
   "nbconvert_exporter": "python",
   "pygments_lexer": "ipython3",
   "version": "3.6.5"
  }
 },
 "nbformat": 4,
 "nbformat_minor": 2
}
