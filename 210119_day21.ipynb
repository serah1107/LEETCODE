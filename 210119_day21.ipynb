{
 "cells": [
  {
   "cell_type": "markdown",
   "metadata": {},
   "source": [
    "# leetcode - 120. Triangle"
   ]
  },
  {
   "cell_type": "code",
   "execution_count": null,
   "metadata": {},
   "outputs": [],
   "source": [
    "class Solution(object):\n",
    "    def minimumTotal(self, triangle):\n",
    "        \"\"\"\n",
    "        :type triangle: List[List[int]]\n",
    "        :rtype: int\n",
    "        \"\"\"\n",
    "        path_min = triangle[0][0]\n",
    "        start = 0 \n",
    "        \n",
    "        for i in range(1,len(triangle)):\n",
    "            path_min += min(triangle[i][start], triangle[i][start + 1])\n",
    "            if min(triangle[i][start], triangle[i][start + 1]) == triangle[i][start] : \n",
    "                start = start \n",
    "                \n",
    "            else : \n",
    "                start = start + 1\n",
    "                \n",
    "        return path_min"
   ]
  }
 ],
 "metadata": {
  "kernelspec": {
   "display_name": "Python 3",
   "language": "python",
   "name": "python3"
  },
  "language_info": {
   "codemirror_mode": {
    "name": "ipython",
    "version": 3
   },
   "file_extension": ".py",
   "mimetype": "text/x-python",
   "name": "python",
   "nbconvert_exporter": "python",
   "pygments_lexer": "ipython3",
   "version": "3.6.5"
  }
 },
 "nbformat": 4,
 "nbformat_minor": 2
}
