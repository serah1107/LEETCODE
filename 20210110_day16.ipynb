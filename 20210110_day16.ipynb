{
 "cells": [
  {
   "cell_type": "markdown",
   "metadata": {},
   "source": [
    "# leetcode - 3. Longest Substring Without Repeating Characters\n"
   ]
  },
  {
   "cell_type": "code",
   "execution_count": 33,
   "metadata": {},
   "outputs": [],
   "source": [
    "c = \"pw\""
   ]
  },
  {
   "cell_type": "code",
   "execution_count": 34,
   "metadata": {},
   "outputs": [
    {
     "data": {
      "text/plain": [
       "'p'"
      ]
     },
     "execution_count": 34,
     "metadata": {},
     "output_type": "execute_result"
    }
   ],
   "source": [
    "c[:len(c)-1]"
   ]
  },
  {
   "cell_type": "code",
   "execution_count": 35,
   "metadata": {},
   "outputs": [],
   "source": [
    "class Solution(object):\n",
    "    def lengthOfLongestSubstring(self, s):\n",
    "        \"\"\"\n",
    "        :type s: str\n",
    "        :rtype: int\n",
    "        \"\"\"\n",
    "        \n",
    "        current = {}\n",
    "        final_s = ''\n",
    "        \n",
    "        for index, val in enumerate(s):\n",
    "            \n",
    "            if val not in current :         # key 검색  \n",
    "                current[val] = index\n",
    "                final_s += val \n",
    "            else : \n",
    "                if val == final_s[len(final_s)-1]:\n",
    "                    final_s = final_s[:len(final_s)-1] + \"*\" + val #연속으로 발생할 경우 원래있던 걸 *로 변경 \n",
    "                \n",
    "                else : \n",
    "                    final_s += \"*\"  # *로 변경 \n",
    "                    \n",
    "        val_len = [ len(val) for val in final_s.split(\"*\")] # *로 split해서 가장 큰 문자 골라내기 \n",
    "        \n",
    "        \n",
    "        return max(val_len)\n",
    "        "
   ]
  }
 ],
 "metadata": {
  "kernelspec": {
   "display_name": "Python 3",
   "language": "python",
   "name": "python3"
  },
  "language_info": {
   "codemirror_mode": {
    "name": "ipython",
    "version": 3
   },
   "file_extension": ".py",
   "mimetype": "text/x-python",
   "name": "python",
   "nbconvert_exporter": "python",
   "pygments_lexer": "ipython3",
   "version": "3.6.5"
  }
 },
 "nbformat": 4,
 "nbformat_minor": 2
}
